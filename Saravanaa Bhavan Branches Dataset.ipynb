{
 "cells": [
  {
   "cell_type": "markdown",
   "id": "c6936302",
   "metadata": {},
   "source": [
    "# Dataset for Saravanaa Bhavan Branches\n",
    "\n",
    "## About\n",
    "#### Saravanaa Bhavan is the largest South Indian restaurant chain in the world. It's got branches all over the world. Just out of curiosity I wanted to visualize where they were located on a map. Since I couldn't find one, I decided to create one for myself - hence the dataset. This dataset contains the address information of all their branches. Which subsequently I've used to plot on a map."
   ]
  },
  {
   "cell_type": "code",
   "execution_count": 1,
   "id": "1e578f3f",
   "metadata": {},
   "outputs": [],
   "source": [
    "import pandas as pd # populate data\n",
    "import requests # make request to a web page\n",
    "from selenium import webdriver # get html data from websites\n",
    "from bs4 import BeautifulSoup # parse html data"
   ]
  },
  {
   "cell_type": "code",
   "execution_count": 2,
   "id": "e75a33eb",
   "metadata": {
    "scrolled": true
   },
   "outputs": [
    {
     "name": "stderr",
     "output_type": "stream",
     "text": [
      "C:\\Users\\Praveen Satya\\AppData\\Local\\Temp\\ipykernel_6060\\3899452908.py:1: DeprecationWarning: executable_path has been deprecated, please pass in a Service object\n",
      "  driver = webdriver.Chrome(\"C:/webdrivers/chromedriver\")\n"
     ]
    }
   ],
   "source": [
    "# get chromedriver\n",
    "driver = webdriver.Chrome(\"C:/webdrivers/chromedriver\")"
   ]
  },
  {
   "cell_type": "code",
   "execution_count": 3,
   "id": "9537f129",
   "metadata": {},
   "outputs": [],
   "source": [
    "# get data from the page\n",
    "driver.get(\"https://saravanabhavan.com/branches\")"
   ]
  },
  {
   "cell_type": "code",
   "execution_count": 4,
   "id": "feea0143",
   "metadata": {
    "scrolled": true
   },
   "outputs": [],
   "source": [
    "branchesList = []\n",
    "# get the html content\n",
    "content = driver.page_source\n",
    "# parse the html content\n",
    "soup = BeautifulSoup(content)\n",
    "for countryBox in soup.findAll(\"div\", attrs = {\"class\": \"country-box\"}):\n",
    "    country = countryBox.find(\"h4\").text\n",
    "    for address in countryBox.findAll(\"h6\", attrs = {\"class\": \"head-box\"}):\n",
    "        # get latitude and longitude for a given address\n",
    "        url = 'https://nominatim.openstreetmap.org/search/' + address.text +'?format=json'\n",
    "        response = requests.get(url).json()\n",
    "        if(len(response) > 0):\n",
    "            lat = response[0][\"lat\"]\n",
    "            lon = response[0][\"lon\"]\n",
    "        branchesList.append([country,address.text,lat,lon])\n",
    "# convert list to dataframe\n",
    "branchesDF = pd.DataFrame(branchesList, columns = [\"Country\", \"Address\", \"Latitude\", \"Longitude\"])\n",
    "# write from dataframe to csv\n",
    "branchesDF.to_csv(\"E:/My Jupyter/Data Sets/SaravanaaBhavanBranches.csv\", index = False)"
   ]
  }
 ],
 "metadata": {
  "kernelspec": {
   "display_name": "Python 3 (ipykernel)",
   "language": "python",
   "name": "python3"
  },
  "language_info": {
   "codemirror_mode": {
    "name": "ipython",
    "version": 3
   },
   "file_extension": ".py",
   "mimetype": "text/x-python",
   "name": "python",
   "nbconvert_exporter": "python",
   "pygments_lexer": "ipython3",
   "version": "3.10.1"
  }
 },
 "nbformat": 4,
 "nbformat_minor": 5
}
